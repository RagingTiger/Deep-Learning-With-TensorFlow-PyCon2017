{
 "cells": [
  {
   "cell_type": "markdown",
   "metadata": {},
   "source": [
    "# Code for \"A Gentle Introduction to Deep Learning\n",
    "\n",
    "### Michelle Fullwood\n",
    "PyCon 2017 talk"
   ]
  },
  {
   "cell_type": "markdown",
   "metadata": {},
   "source": [
    "## Part 1: Implementing linear regression using numpy"
   ]
  },
  {
   "cell_type": "markdown",
   "metadata": {},
   "source": [
    "The problem: predicting house prices. \n",
    "\n",
    "### Variables\n",
    "We have three pieces of information about each house, which we call the features:\n",
    "\n",
    "* Square footage of the house\n",
    "* Distance from the nearest train station\n",
    "* Number of bedrooms\n",
    "\n",
    "We'll represent these in an array we'll call `x`.\n",
    "\n",
    "And we have the target value we're trying to predict, the house price, which we'll call `y`."
   ]
  },
  {
   "cell_type": "code",
   "execution_count": 1,
   "metadata": {
    "collapsed": true
   },
   "outputs": [],
   "source": [
    "import numpy as np"
   ]
  },
  {
   "cell_type": "code",
   "execution_count": 2,
   "metadata": {
    "collapsed": true
   },
   "outputs": [],
   "source": [
    "# x is the features we're using as information to predict...\n",
    "x = np.array([1250, 350, 3])\n",
    "\n",
    "# ...y, the target value\n",
    "y = 345000"
   ]
  },
  {
   "cell_type": "markdown",
   "metadata": {},
   "source": [
    "### Model\n",
    "\n"
   ]
  }
 ],
 "metadata": {
  "kernelspec": {
   "display_name": "Python 2",
   "language": "python",
   "name": "python2"
  },
  "language_info": {
   "codemirror_mode": {
    "name": "ipython",
    "version": 2
   },
   "file_extension": ".py",
   "mimetype": "text/x-python",
   "name": "python",
   "nbconvert_exporter": "python",
   "pygments_lexer": "ipython2",
   "version": "2.7.8"
  }
 },
 "nbformat": 4,
 "nbformat_minor": 0
}
