{
 "cells": [
  {
   "cell_type": "code",
   "execution_count": 5,
   "metadata": {},
   "outputs": [
    {
     "data": {
      "text/plain": [
       "'1.1.0'"
      ]
     },
     "execution_count": 5,
     "metadata": {},
     "output_type": "execute_result"
    }
   ],
   "source": [
    "import numpy as np\n",
    "import tensorflow as tf\n",
    "import sklearn\n",
    "tf.__version__"
   ]
  },
  {
   "cell_type": "code",
   "execution_count": 6,
   "metadata": {},
   "outputs": [
    {
     "name": "stdout",
     "output_type": "stream",
     "text": [
      "Extracting MNIST_data/train-images-idx3-ubyte.gz\n",
      "Extracting MNIST_data/train-labels-idx1-ubyte.gz\n",
      "Extracting MNIST_data/t10k-images-idx3-ubyte.gz\n",
      "Extracting MNIST_data/t10k-labels-idx1-ubyte.gz\n"
     ]
    }
   ],
   "source": [
    "# get MNIST data\n",
    "\n",
    "from tensorflow.examples.tutorials.mnist import input_data\n",
    "mnist = input_data.read_data_sets(\"MNIST_data/\", one_hot=True)"
   ]
  },
  {
   "cell_type": "code",
   "execution_count": 7,
   "metadata": {
    "collapsed": true
   },
   "outputs": [],
   "source": [
    "# divide into train and test sets\n",
    "X_train, Y_train, X_test, Y_test = mnist.train.images, mnist.train.labels, mnist.test.images, mnist.test.labels"
   ]
  },
  {
   "cell_type": "code",
   "execution_count": 14,
   "metadata": {},
   "outputs": [
    {
     "name": "stdout",
     "output_type": "stream",
     "text": [
      "0 0.465072727273 0.467\n",
      "9 0.937545454545 0.9405\n",
      "19 0.9486 0.9503\n",
      "29 0.951327272727 0.9518\n",
      "39 0.952327272727 0.9521\n",
      "49 0.953418181818 0.9534\n",
      "59 0.953854545455 0.9547\n",
      "69 0.954254545455 0.9538\n",
      "79 0.952454545455 0.9531\n",
      "89 0.9514 0.9503\n",
      "99 0.953836363636 0.954\n",
      "109 0.952836363636 0.9531\n",
      "119 0.953581818182 0.9514\n",
      "129 0.954018181818 0.954\n",
      "139 0.953054545455 0.9512\n",
      "149 0.953709090909 0.953\n",
      "159 0.953727272727 0.9547\n",
      "169 0.954981818182 0.954\n",
      "179 0.954254545455 0.9536\n",
      "189 0.953909090909 0.9532\n",
      "199 0.954654545455 0.9545\n"
     ]
    }
   ],
   "source": [
    "# Placeholders\n",
    "X = tf.placeholder(tf.float32, [None, 784]) # 28 pixels * 28 pixels=784\n",
    "Y = tf.placeholder(tf.float32, [None, 10])  # 0-9\n",
    "\n",
    "# Variables\n",
    "HIDDEN_LAYER_1_SIZE = 256  # should play around with these\n",
    "HIDDEN_LAYER_2_SIZE = 128\n",
    "\n",
    "with tf.variable_scope(\"mnist_3layers_L2_expt1\"):\n",
    "    # note: with tf.get_variable() unlike initializing variables directly (W1 = tf.Variable(...)),\n",
    "    #       variable names must be unique under a given namespace. If you get an error\n",
    "    #       like \"ValueError: Variable $variable_scope_name/$variable_name already exists, disallowed\"\n",
    "    #       at this stage, change your variable_scope name\n",
    "    W1 = tf.get_variable(\"hidden_weights_1\", [784, HIDDEN_LAYER_1_SIZE],\n",
    "                         initializer=tf.random_normal_initializer())\n",
    "    b1 = tf.get_variable(\"bias1\", [HIDDEN_LAYER_1_SIZE],\n",
    "                         initializer=tf.constant_initializer(0))\n",
    "    W2 = tf.get_variable(\"hidden_weights_2\", [HIDDEN_LAYER_1_SIZE, HIDDEN_LAYER_2_SIZE],\n",
    "                         initializer=tf.random_normal_initializer())\n",
    "    b2 = tf.get_variable(\"bias2\", [HIDDEN_LAYER_2_SIZE],\n",
    "                         initializer=tf.constant_initializer(0))\n",
    "    W3 = tf.get_variable(\"hidden_weights_3\", [HIDDEN_LAYER_2_SIZE, 10],\n",
    "                         initializer=tf.random_normal_initializer())\n",
    "    b3 = tf.get_variable(\"bias3\", [10],\n",
    "                         initializer=tf.constant_initializer(0))\n",
    "\n",
    "# Model\n",
    "hidden_layer_1 = tf.nn.relu(tf.matmul(X, W1) + b1)\n",
    "hidden_layer_2 = tf.nn.relu(tf.matmul(hidden_layer_1, W2) + b2)\n",
    "logits = tf.matmul(hidden_layer_2, W3) + b3\n",
    "\n",
    "# Cost function\n",
    "REGULARIZATION_CONSTANT = 0.01\n",
    "cost = tf.reduce_mean(tf.nn.softmax_cross_entropy_with_logits(logits=logits, labels=Y)) \\\n",
    "     + REGULARIZATION_CONSTANT * (tf.nn.l2_loss(W1) + tf.nn.l2_loss(W2) + tf.nn.l2_loss(W3))\n",
    "\n",
    "# Optimization\n",
    "LEARNING_RATE = 0.05\n",
    "optimizer = tf.train.GradientDescentOptimizer(LEARNING_RATE).minimize(cost)\n",
    "\n",
    "# Prediction\n",
    "predict = tf.argmax(logits, 1)\n",
    "\n",
    "# Train\n",
    "NUM_ITERATIONS = 200  # honestly, 50 is enough\n",
    "BATCH_SIZE = 128\n",
    "\n",
    "with tf.Session() as sess:\n",
    "    # initialize variables\n",
    "    sess.run(tf.global_variables_initializer())\n",
    "    \n",
    "    # train\n",
    "    for i in range(NUM_ITERATIONS):\n",
    "        # minibatch training\n",
    "        X_train, Y_train = sklearn.utils.shuffle(X_train, Y_train)\n",
    "        for start, end in zip(range(0, len(X_train), BATCH_SIZE), range(BATCH_SIZE, len(X_train)+1, BATCH_SIZE)):\n",
    "            sess.run(optimizer, feed_dict={X: X_train[start:end], Y: Y_train[start:end]})\n",
    "\n",
    "        # print train and test error\n",
    "        if i == 0 or i % 10 == 9:\n",
    "            # calculate train error\n",
    "            train_error = np.mean(np.argmax(Y_train, axis=1) == sess.run(predict, feed_dict={X: X_train}))\n",
    "            # calculate test error\n",
    "            test_error = np.mean(np.argmax(Y_test, axis=1) == sess.run(predict, feed_dict={X: X_test}))\n",
    "            print(i, train_error, test_error)           "
   ]
  }
 ],
 "metadata": {
  "kernelspec": {
   "display_name": "Python 3",
   "language": "python",
   "name": "python3"
  },
  "language_info": {
   "codemirror_mode": {
    "name": "ipython",
    "version": 3
   },
   "file_extension": ".py",
   "mimetype": "text/x-python",
   "name": "python",
   "nbconvert_exporter": "python",
   "pygments_lexer": "ipython3",
   "version": "3.4.2"
  }
 },
 "nbformat": 4,
 "nbformat_minor": 2
}
